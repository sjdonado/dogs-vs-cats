{
  "nbformat": 4,
  "nbformat_minor": 0,
  "metadata": {
    "colab": {
      "name": "dogs-vs-cats.ipynb",
      "provenance": [],
      "collapsed_sections": [],
      "authorship_tag": "ABX9TyP5zDKU0cXPqa7IrMgHjwH/"
    },
    "kernelspec": {
      "name": "python3",
      "display_name": "Python 3"
    },
    "accelerator": "GPU"
  },
  "cells": [
    {
      "cell_type": "code",
      "metadata": {
        "id": "WfQ01zTEL9M6",
        "colab_type": "code",
        "colab": {}
      },
      "source": [
        "import os\n",
        "import numpy as np\n",
        "import matplotlib.pyplot as plt\n",
        "from tensorflow.keras import layers\n",
        "from tensorflow import keras \n",
        "import tensorflow as tf\n",
        "from keras.preprocessing.image import ImageDataGenerator\n",
        "\n",
        "%matplotlib inline"
      ],
      "execution_count": 0,
      "outputs": []
    },
    {
      "cell_type": "code",
      "metadata": {
        "id": "es6VZ9RTNPeF",
        "colab_type": "code",
        "outputId": "78735422-e0ba-48cc-e2c1-57dd94d251bd",
        "colab": {
          "base_uri": "https://localhost:8080/",
          "height": 34
        }
      },
      "source": [
        "from google.colab import drive\n",
        "drive.mount('/content/gdrive')\n",
        "os.environ['KAGGLE_CONFIG_DIR'] = \"/content/gdrive/My Drive/Kaggle\""
      ],
      "execution_count": 0,
      "outputs": [
        {
          "output_type": "stream",
          "text": [
            "Drive already mounted at /content/gdrive; to attempt to forcibly remount, call drive.mount(\"/content/gdrive\", force_remount=True).\n"
          ],
          "name": "stdout"
        }
      ]
    },
    {
      "cell_type": "code",
      "metadata": {
        "id": "5NhbaUH9QKt0",
        "colab_type": "code",
        "outputId": "0ccd8efd-c110-4ddf-c773-ed4cb76995de",
        "colab": {
          "base_uri": "https://localhost:8080/",
          "height": 204
        }
      },
      "source": [
        "!kaggle competitions download -c dogs-vs-cats\n",
        "!unzip -qq \\*.zip\n",
        "%rm *.zip"
      ],
      "execution_count": 0,
      "outputs": [
        {
          "output_type": "stream",
          "text": [
            "Warning: Looks like you're using an outdated API Version, please consider updating (server 1.5.6 / client 1.5.4)\n",
            "Downloading train.zip to /content/gdrive/My Drive/Kaggle/Dogs vs Cats\n",
            " 98% 533M/543M [00:04<00:00, 109MB/s]\n",
            "100% 543M/543M [00:04<00:00, 130MB/s]\n",
            "Downloading test1.zip to /content/gdrive/My Drive/Kaggle/Dogs vs Cats\n",
            " 98% 266M/271M [00:03<00:00, 61.5MB/s]\n",
            "100% 271M/271M [00:03<00:00, 71.6MB/s]\n",
            "sampleSubmission.csv: Skipping, found more recently modified local copy (use --force to force download)\n",
            "replace train/cat.0.jpg? [y]es, [n]o, [A]ll, [N]one, [r]ename: A\n",
            "\n",
            "2 archives were successfully processed.\n"
          ],
          "name": "stdout"
        }
      ]
    },
    {
      "cell_type": "code",
      "metadata": {
        "id": "Soy5dbWb7oGZ",
        "colab_type": "code",
        "outputId": "24776957-8cb0-4c86-ee9c-8b90f0b89b27",
        "colab": {
          "base_uri": "https://localhost:8080/",
          "height": 34
        }
      },
      "source": [
        "# Only will work with 1000 samples by class and 400 aditional samples from each class as validation data\n",
        "%%bash\n",
        "mkdir -p data/train/dogs data/train/cats data/validation/dogs data/validation/cats\n",
        "find train -name 'dog.*' | head -1400 | xargs -I filename mv filename data/train/dogs\n",
        "find train -name 'cat.*' | head -1400 | xargs -I filename mv filename data/train/cats"
      ],
      "execution_count": 0,
      "outputs": [
        {
          "output_type": "execute_result",
          "data": {
            "text/plain": [
              "0"
            ]
          },
          "metadata": {
            "tags": []
          },
          "execution_count": 15
        }
      ]
    },
    {
      "cell_type": "code",
      "metadata": {
        "id": "mqhbIM_IVoNr",
        "colab_type": "code",
        "outputId": "98aab9d5-51f4-4109-f622-ced3ce5c4b6f",
        "colab": {
          "base_uri": "https://localhost:8080/",
          "height": 68
        }
      },
      "source": [
        "%%bash\n",
        "cd /content/gdrive/My Drive/Kaggle/Dogs vs Cats/data/train/dogs\n",
        "ls | tail -400 | xargs -I filename mv filename ../../validation/dogs\n",
        "cd /content/gdrive/My Drive/Kaggle/Dogs vs Cats/data/train/cats\n",
        "ls | tail -400 | xargs -I filename mv filename ../../validation/cats\n",
        "cd /content/gdrive/My Drive/Kaggle/Dogs vs Cats"
      ],
      "execution_count": 0,
      "outputs": [
        {
          "output_type": "stream",
          "text": [
            "/content/gdrive/My Drive/Kaggle/Dogs vs Cats/data/train/dogs\n",
            "/content/gdrive/My Drive/Kaggle/Dogs vs Cats/data/train/cats\n",
            "/content/gdrive/My Drive/Kaggle/Dogs vs Cats\n"
          ],
          "name": "stdout"
        }
      ]
    },
    {
      "cell_type": "code",
      "metadata": {
        "id": "hgmAkBcWKozG",
        "colab_type": "code",
        "colab": {}
      },
      "source": [
        "from keras.preprocessing.image import ImageDataGenerator\n",
        "from keras import backend as K\n",
        "\n",
        "# dimensions of our images.\n",
        "img_width, img_height = 150, 150\n",
        "\n",
        "train_data_dir = 'data/train'\n",
        "validation_data_dir = 'data/validation'\n",
        "nb_train_samples = 2000\n",
        "nb_validation_samples = 800\n",
        "batch_size = 16\n",
        "\n",
        "if K.image_data_format() == 'channels_first':\n",
        "    input_shape = (3, img_width, img_height)\n",
        "else:\n",
        "    input_shape = (img_width, img_height, 3)"
      ],
      "execution_count": 0,
      "outputs": []
    },
    {
      "cell_type": "code",
      "metadata": {
        "id": "P1w1H9xkMByJ",
        "colab_type": "code",
        "colab": {}
      },
      "source": [
        "# build model\n",
        "from keras.applications.vgg16 import VGG16\n",
        "from keras.models import Model\n",
        "from keras.layers import Input, Flatten, Dense, Dropout\n",
        "\n",
        "# load the VGG16 network, ensuring the head fully connected layer sets are left\n",
        "model_vgg16_conv = VGG16(weights=\"imagenet\", include_top=False)\n",
        "# Make vgg16 model layers as non trainable\n",
        "for layer in model_vgg16_conv.layers:\n",
        "    layer.trainable = False\n",
        "\n",
        "input = Input(shape=input_shape)\n",
        "# use the generated model \n",
        "output_vgg16_conv = model_vgg16_conv(input)\n",
        "\n",
        "top_model = Flatten()(output_vgg16_conv)\n",
        "top_model = Dense(256, activation='relu')(top_model)\n",
        "top_model = Dropout(0.5)(top_model)\n",
        "top_model = Dense(1, activation='sigmoid')(top_model)\n",
        "\n",
        "model = Model(inputs=input, outputs=top_model)"
      ],
      "execution_count": 0,
      "outputs": []
    },
    {
      "cell_type": "code",
      "metadata": {
        "id": "bQNslsqk-PD-",
        "colab_type": "code",
        "colab": {}
      },
      "source": [
        "learning_rate = 1e-4\n",
        "momentum = 0.9\n",
        "\n",
        "from keras.optimizers import SGD\n",
        "\n",
        "model.compile(\n",
        "    loss='binary_crossentropy',\n",
        "    optimizer=SGD(lr=learning_rate, momentum=momentum),\n",
        "    metrics=['accuracy']\n",
        ")"
      ],
      "execution_count": 0,
      "outputs": []
    },
    {
      "cell_type": "code",
      "metadata": {
        "id": "Oan1CY3uMF1S",
        "colab_type": "code",
        "colab": {}
      },
      "source": [
        "# train augmentation\n",
        "train_datagen = ImageDataGenerator(\n",
        "        rescale=1./255,\n",
        "        shear_range=0.2,\n",
        "        zoom_range=0.2,\n",
        "        horizontal_flip=True)\n",
        "\n",
        "# for testing only rescaling\n",
        "test_datagen = ImageDataGenerator(rescale=1./255)"
      ],
      "execution_count": 0,
      "outputs": []
    },
    {
      "cell_type": "code",
      "metadata": {
        "id": "glAAxWPq5mgZ",
        "colab_type": "code",
        "outputId": "e89c26a7-a3da-4ae3-dd3a-56eaefc2eb23",
        "colab": {
          "base_uri": "https://localhost:8080/",
          "height": 51
        }
      },
      "source": [
        "train_generator = train_datagen.flow_from_directory(\n",
        "  'data/train',\n",
        "  target_size=(150, 150),\n",
        "  batch_size=batch_size,\n",
        "  class_mode='binary'\n",
        ")\n",
        "\n",
        "validation_generator = test_datagen.flow_from_directory(\n",
        "  'data/validation',\n",
        "  target_size=(150, 150),\n",
        "  batch_size=batch_size,\n",
        "  class_mode='binary'\n",
        ")"
      ],
      "execution_count": 0,
      "outputs": [
        {
          "output_type": "stream",
          "text": [
            "Found 2000 images belonging to 2 classes.\n",
            "Found 800 images belonging to 2 classes.\n"
          ],
          "name": "stdout"
        }
      ]
    },
    {
      "cell_type": "code",
      "metadata": {
        "id": "QrQ-KoSIOn5q",
        "colab_type": "code",
        "outputId": "235a8ea8-6a83-4b9e-c6a5-e838786926bb",
        "colab": {
          "base_uri": "https://localhost:8080/",
          "height": 1000
        }
      },
      "source": [
        "epochs = 50\n",
        "\n",
        "history = model.fit_generator(\n",
        "  train_generator,\n",
        "  steps_per_epoch=nb_train_samples // batch_size,\n",
        "  epochs=epochs,\n",
        "  validation_data=validation_generator,\n",
        "  validation_steps=nb_validation_samples // batch_size\n",
        ")"
      ],
      "execution_count": 0,
      "outputs": [
        {
          "output_type": "stream",
          "text": [
            "Epoch 1/50\n",
            "125/125 [==============================] - 29s 230ms/step - loss: 0.6734 - accuracy: 0.6080 - val_loss: 0.5860 - val_accuracy: 0.7987\n",
            "Epoch 2/50\n",
            "125/125 [==============================] - 22s 175ms/step - loss: 0.5670 - accuracy: 0.6990 - val_loss: 0.5605 - val_accuracy: 0.8125\n",
            "Epoch 3/50\n",
            "125/125 [==============================] - 22s 178ms/step - loss: 0.5171 - accuracy: 0.7520 - val_loss: 0.5105 - val_accuracy: 0.8213\n",
            "Epoch 4/50\n",
            "125/125 [==============================] - 22s 176ms/step - loss: 0.4764 - accuracy: 0.7780 - val_loss: 0.5856 - val_accuracy: 0.8300\n",
            "Epoch 5/50\n",
            "125/125 [==============================] - 22s 173ms/step - loss: 0.4614 - accuracy: 0.7875 - val_loss: 0.4041 - val_accuracy: 0.8338\n",
            "Epoch 6/50\n",
            "125/125 [==============================] - 22s 175ms/step - loss: 0.4489 - accuracy: 0.8000 - val_loss: 0.5647 - val_accuracy: 0.8413\n",
            "Epoch 7/50\n",
            "125/125 [==============================] - 22s 176ms/step - loss: 0.4284 - accuracy: 0.8130 - val_loss: 0.4764 - val_accuracy: 0.8425\n",
            "Epoch 8/50\n",
            "125/125 [==============================] - 22s 176ms/step - loss: 0.4273 - accuracy: 0.8080 - val_loss: 0.4297 - val_accuracy: 0.8487\n",
            "Epoch 9/50\n",
            "125/125 [==============================] - 22s 173ms/step - loss: 0.3980 - accuracy: 0.8300 - val_loss: 0.5579 - val_accuracy: 0.8375\n",
            "Epoch 10/50\n",
            "125/125 [==============================] - 22s 172ms/step - loss: 0.3922 - accuracy: 0.8320 - val_loss: 0.3934 - val_accuracy: 0.8562\n",
            "Epoch 11/50\n",
            "125/125 [==============================] - 21s 170ms/step - loss: 0.3998 - accuracy: 0.8180 - val_loss: 0.3601 - val_accuracy: 0.8475\n",
            "Epoch 12/50\n",
            "125/125 [==============================] - 21s 168ms/step - loss: 0.3834 - accuracy: 0.8365 - val_loss: 0.2877 - val_accuracy: 0.8562\n",
            "Epoch 13/50\n",
            "125/125 [==============================] - 21s 170ms/step - loss: 0.3772 - accuracy: 0.8360 - val_loss: 0.2613 - val_accuracy: 0.8600\n",
            "Epoch 14/50\n",
            "125/125 [==============================] - 21s 170ms/step - loss: 0.3708 - accuracy: 0.8320 - val_loss: 0.2906 - val_accuracy: 0.8625\n",
            "Epoch 15/50\n",
            "125/125 [==============================] - 21s 171ms/step - loss: 0.3676 - accuracy: 0.8395 - val_loss: 0.4324 - val_accuracy: 0.8637\n",
            "Epoch 16/50\n",
            "125/125 [==============================] - 21s 167ms/step - loss: 0.3535 - accuracy: 0.8425 - val_loss: 0.2171 - val_accuracy: 0.8662\n",
            "Epoch 17/50\n",
            "125/125 [==============================] - 21s 165ms/step - loss: 0.3557 - accuracy: 0.8435 - val_loss: 0.2843 - val_accuracy: 0.8712\n",
            "Epoch 18/50\n",
            "125/125 [==============================] - 21s 170ms/step - loss: 0.3451 - accuracy: 0.8530 - val_loss: 0.2773 - val_accuracy: 0.8675\n",
            "Epoch 19/50\n",
            "125/125 [==============================] - 21s 168ms/step - loss: 0.3349 - accuracy: 0.8640 - val_loss: 0.3195 - val_accuracy: 0.8650\n",
            "Epoch 20/50\n",
            "125/125 [==============================] - 21s 167ms/step - loss: 0.3394 - accuracy: 0.8500 - val_loss: 0.2883 - val_accuracy: 0.8737\n",
            "Epoch 21/50\n",
            "125/125 [==============================] - 21s 168ms/step - loss: 0.3469 - accuracy: 0.8485 - val_loss: 0.3843 - val_accuracy: 0.8625\n",
            "Epoch 22/50\n",
            "125/125 [==============================] - 21s 168ms/step - loss: 0.3214 - accuracy: 0.8630 - val_loss: 0.3690 - val_accuracy: 0.8675\n",
            "Epoch 23/50\n",
            "125/125 [==============================] - 21s 171ms/step - loss: 0.3278 - accuracy: 0.8605 - val_loss: 0.2759 - val_accuracy: 0.8712\n",
            "Epoch 24/50\n",
            "125/125 [==============================] - 21s 167ms/step - loss: 0.3199 - accuracy: 0.8605 - val_loss: 0.4141 - val_accuracy: 0.8750\n",
            "Epoch 25/50\n",
            "125/125 [==============================] - 21s 165ms/step - loss: 0.3276 - accuracy: 0.8605 - val_loss: 0.1909 - val_accuracy: 0.8763\n",
            "Epoch 26/50\n",
            "125/125 [==============================] - 21s 168ms/step - loss: 0.3048 - accuracy: 0.8710 - val_loss: 0.2919 - val_accuracy: 0.8750\n",
            "Epoch 27/50\n",
            "125/125 [==============================] - 21s 168ms/step - loss: 0.3144 - accuracy: 0.8685 - val_loss: 0.3094 - val_accuracy: 0.8687\n",
            "Epoch 28/50\n",
            "125/125 [==============================] - 21s 166ms/step - loss: 0.3145 - accuracy: 0.8675 - val_loss: 0.2711 - val_accuracy: 0.8788\n",
            "Epoch 29/50\n",
            "125/125 [==============================] - 21s 168ms/step - loss: 0.3046 - accuracy: 0.8760 - val_loss: 0.3871 - val_accuracy: 0.8800\n",
            "Epoch 30/50\n",
            "125/125 [==============================] - 21s 169ms/step - loss: 0.2998 - accuracy: 0.8700 - val_loss: 0.2440 - val_accuracy: 0.8775\n",
            "Epoch 31/50\n",
            "125/125 [==============================] - 21s 169ms/step - loss: 0.3041 - accuracy: 0.8685 - val_loss: 0.2228 - val_accuracy: 0.8662\n",
            "Epoch 32/50\n",
            "125/125 [==============================] - 21s 166ms/step - loss: 0.3064 - accuracy: 0.8660 - val_loss: 0.3905 - val_accuracy: 0.8825\n",
            "Epoch 33/50\n",
            "125/125 [==============================] - 21s 168ms/step - loss: 0.3104 - accuracy: 0.8640 - val_loss: 0.2659 - val_accuracy: 0.8775\n",
            "Epoch 34/50\n",
            "125/125 [==============================] - 21s 166ms/step - loss: 0.2983 - accuracy: 0.8740 - val_loss: 0.3882 - val_accuracy: 0.8838\n",
            "Epoch 35/50\n",
            "125/125 [==============================] - 21s 164ms/step - loss: 0.2961 - accuracy: 0.8745 - val_loss: 0.1831 - val_accuracy: 0.8863\n",
            "Epoch 36/50\n",
            "125/125 [==============================] - 21s 168ms/step - loss: 0.2939 - accuracy: 0.8690 - val_loss: 0.2609 - val_accuracy: 0.8725\n",
            "Epoch 37/50\n",
            "125/125 [==============================] - 21s 167ms/step - loss: 0.2906 - accuracy: 0.8760 - val_loss: 0.1858 - val_accuracy: 0.8875\n",
            "Epoch 38/50\n",
            "125/125 [==============================] - 22s 173ms/step - loss: 0.2900 - accuracy: 0.8765 - val_loss: 0.1939 - val_accuracy: 0.8875\n",
            "Epoch 39/50\n",
            "125/125 [==============================] - 21s 165ms/step - loss: 0.2851 - accuracy: 0.8825 - val_loss: 0.2020 - val_accuracy: 0.8562\n",
            "Epoch 40/50\n",
            "125/125 [==============================] - 21s 168ms/step - loss: 0.2831 - accuracy: 0.8810 - val_loss: 0.4066 - val_accuracy: 0.8763\n",
            "Epoch 41/50\n",
            "125/125 [==============================] - 21s 167ms/step - loss: 0.2906 - accuracy: 0.8705 - val_loss: 0.3363 - val_accuracy: 0.8925\n",
            "Epoch 42/50\n",
            "125/125 [==============================] - 21s 165ms/step - loss: 0.2839 - accuracy: 0.8745 - val_loss: 0.4153 - val_accuracy: 0.8813\n",
            "Epoch 43/50\n",
            "125/125 [==============================] - 21s 166ms/step - loss: 0.2733 - accuracy: 0.8845 - val_loss: 0.2239 - val_accuracy: 0.8900\n",
            "Epoch 44/50\n",
            "125/125 [==============================] - 21s 167ms/step - loss: 0.2811 - accuracy: 0.8855 - val_loss: 0.2133 - val_accuracy: 0.8825\n",
            "Epoch 45/50\n",
            "125/125 [==============================] - 21s 167ms/step - loss: 0.2743 - accuracy: 0.8815 - val_loss: 0.4344 - val_accuracy: 0.8888\n",
            "Epoch 46/50\n",
            "125/125 [==============================] - 21s 168ms/step - loss: 0.2680 - accuracy: 0.8855 - val_loss: 0.3968 - val_accuracy: 0.8838\n",
            "Epoch 47/50\n",
            "125/125 [==============================] - 21s 168ms/step - loss: 0.2725 - accuracy: 0.8865 - val_loss: 0.2396 - val_accuracy: 0.8775\n",
            "Epoch 48/50\n",
            "125/125 [==============================] - 21s 167ms/step - loss: 0.2789 - accuracy: 0.8835 - val_loss: 0.3526 - val_accuracy: 0.8737\n",
            "Epoch 49/50\n",
            "125/125 [==============================] - 21s 169ms/step - loss: 0.2575 - accuracy: 0.8975 - val_loss: 0.2418 - val_accuracy: 0.8963\n",
            "Epoch 50/50\n",
            "125/125 [==============================] - 21s 168ms/step - loss: 0.2506 - accuracy: 0.8975 - val_loss: 0.3076 - val_accuracy: 0.8975\n"
          ],
          "name": "stdout"
        }
      ]
    },
    {
      "cell_type": "code",
      "metadata": {
        "id": "hBqZf_94biDc",
        "colab_type": "code",
        "outputId": "f8faaa75-73c4-4f4a-c5ee-a314eb1d2cf4",
        "colab": {
          "base_uri": "https://localhost:8080/",
          "height": 316
        }
      },
      "source": [
        "plt.style.use(\"ggplot\")\n",
        "plt.figure()\n",
        "plt.plot(history.history[\"loss\"], label=\"train_loss\")\n",
        "plt.plot(history.history[\"val_loss\"], label=\"val_loss\")\n",
        "plt.plot(history.history[\"accuracy\"], label=\"train_acc\")\n",
        "plt.plot(history.history[\"val_accuracy\"], label=\"val_acc\")\n",
        "plt.title(\"Training Loss and Accuracy\")\n",
        "plt.xlabel(\"Epoch #\")\n",
        "plt.ylabel(\"Loss/Accuracy\")\n",
        "plt.legend(loc=\"best\")"
      ],
      "execution_count": 0,
      "outputs": [
        {
          "output_type": "execute_result",
          "data": {
            "text/plain": [
              "<matplotlib.legend.Legend at 0x7fe62e25bbe0>"
            ]
          },
          "metadata": {
            "tags": []
          },
          "execution_count": 28
        },
        {
          "output_type": "display_data",
          "data": {
            "image/png": "[encoded data removed]",
            "text/plain": [
              "<Figure size 432x288 with 1 Axes>"
            ]
          },
          "metadata": {
            "tags": []
          }
        }
      ]
    }
  ]
}