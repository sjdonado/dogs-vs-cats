{
  "nbformat": 4,
  "nbformat_minor": 0,
  "metadata": {
    "colab": {
      "name": "dogs-vs-cats.ipynb",
      "provenance": [],
      "collapsed_sections": [],
      "authorship_tag": "ABX9TyM9vH1Kw6FrqnNqT3a5Qh8s"
    },
    "kernelspec": {
      "name": "python3",
      "display_name": "Python 3"
    },
    "accelerator": "GPU"
  },
  "cells": [
    {
      "cell_type": "code",
      "metadata": {
        "id": "WfQ01zTEL9M6",
        "colab_type": "code",
        "colab": {}
      },
      "source": [
        "import os\n",
        "import numpy as np\n",
        "import matplotlib.pyplot as plt\n",
        "from tensorflow.keras import layers\n",
        "from tensorflow import keras \n",
        "import tensorflow as tf\n",
        "from keras.preprocessing.image import ImageDataGenerator\n",
        "\n",
        "%matplotlib inline"
      ],
      "execution_count": 0,
      "outputs": []
    },
    {
      "cell_type": "code",
      "metadata": {
        "id": "es6VZ9RTNPeF",
        "colab_type": "code",
        "outputId": "245493a2-18db-419e-ed7e-5751e7cdce53",
        "colab": {
          "base_uri": "https://localhost:8080/",
          "height": 51
        }
      },
      "source": [
        "from google.colab import drive\n",
        "drive.mount('/content/gdrive')\n",
        "os.environ['KAGGLE_CONFIG_DIR'] = \"/content/gdrive/My Drive/Kaggle\"\n",
        "%cd /content/gdrive/My Drive/Kaggle/Dogs vs Cats"
      ],
      "execution_count": 0,
      "outputs": [
        {
          "output_type": "stream",
          "text": [
            "Drive already mounted at /content/gdrive; to attempt to forcibly remount, call drive.mount(\"/content/gdrive\", force_remount=True).\n",
            "/content/gdrive/My Drive/Kaggle/Dogs vs Cats\n"
          ],
          "name": "stdout"
        }
      ]
    },
    {
      "cell_type": "code",
      "metadata": {
        "id": "5NhbaUH9QKt0",
        "colab_type": "code",
        "colab": {}
      },
      "source": [
        "# Download kaggle dataset\n",
        "!kaggle competitions download -c dogs-vs-cats\n",
        "!unzip -qq \\*.zip\n",
        "%rm *.zip"
      ],
      "execution_count": 0,
      "outputs": []
    },
    {
      "cell_type": "code",
      "metadata": {
        "id": "Soy5dbWb7oGZ",
        "colab_type": "code",
        "outputId": "e4962e8c-81bd-4071-e35b-bc6decbf5a0a",
        "colab": {
          "base_uri": "https://localhost:8080/",
          "height": 34
        }
      },
      "source": [
        "# Only will work with 1000 samples by class and 400 aditional samples from each class as validation data \n",
        "%mkdir -p data/train/dogs data/train/cats data/validation/dogs data/validation/cats\n",
        "os.system(\"find train -name 'dog.*' | head -1400 | xargs -I filename mv filename data/train/dogs\")\n",
        "os.system(\"find train -name 'cat.*' | head -1400 | xargs -I filename mv filename data/train/cats\")"
      ],
      "execution_count": 0,
      "outputs": [
        {
          "output_type": "execute_result",
          "data": {
            "text/plain": [
              "0"
            ]
          },
          "metadata": {
            "tags": []
          },
          "execution_count": 45
        }
      ]
    },
    {
      "cell_type": "code",
      "metadata": {
        "id": "mqhbIM_IVoNr",
        "colab_type": "code",
        "outputId": "9be42ec3-0f61-4be1-ca2c-167b55355ae7",
        "colab": {
          "base_uri": "https://localhost:8080/",
          "height": 68
        }
      },
      "source": [
        "%cd /content/gdrive/My Drive/Kaggle/Dogs vs Cats/data/train/dogs\n",
        "os.system('ls | tail -400 | xargs -I filename mv filename ../../validation/dogs')\n",
        "%cd /content/gdrive/My Drive/Kaggle/Dogs vs Cats/data/train/cats\n",
        "os.system('ls | tail -400 | xargs -I filename mv filename ../../validation/cats')\n",
        "%cd /content/gdrive/My Drive/Kaggle/Dogs vs Cats"
      ],
      "execution_count": 0,
      "outputs": [
        {
          "output_type": "stream",
          "text": [
            "/content/gdrive/My Drive/Kaggle/Dogs vs Cats/data/train/dogs\n",
            "/content/gdrive/My Drive/Kaggle/Dogs vs Cats/data/train/cats\n",
            "/content/gdrive/My Drive/Kaggle/Dogs vs Cats\n"
          ],
          "name": "stdout"
        }
      ]
    },
    {
      "cell_type": "code",
      "metadata": {
        "id": "hgmAkBcWKozG",
        "colab_type": "code",
        "colab": {}
      },
      "source": [
        "from keras.preprocessing.image import ImageDataGenerator\n",
        "from keras.models import Sequential\n",
        "from keras.layers import Conv2D, MaxPooling2D\n",
        "from keras.layers import Activation, Dropout, Flatten, Dense\n",
        "from keras import backend as K\n",
        "\n",
        "# dimensions of our images.\n",
        "img_width, img_height = 150, 150\n",
        "\n",
        "train_data_dir = 'data/train'\n",
        "validation_data_dir = 'data/validation'\n",
        "nb_train_samples = 2000\n",
        "nb_validation_samples = 800\n",
        "epochs = 30\n",
        "batch_size = 16\n",
        "\n",
        "if K.image_data_format() == 'channels_first':\n",
        "    input_shape = (3, img_width, img_height)\n",
        "else:\n",
        "    input_shape = (img_width, img_height, 3)"
      ],
      "execution_count": 0,
      "outputs": []
    },
    {
      "cell_type": "code",
      "metadata": {
        "id": "P1w1H9xkMByJ",
        "colab_type": "code",
        "colab": {}
      },
      "source": [
        "model = Sequential()\n",
        "model.add(Conv2D(32, (3, 3), input_shape=input_shape))\n",
        "model.add(Activation('relu'))\n",
        "model.add(MaxPooling2D(pool_size=(2, 2)))\n",
        "\n",
        "model.add(Conv2D(32, (3, 3)))\n",
        "model.add(Activation('relu'))\n",
        "model.add(MaxPooling2D(pool_size=(2, 2)))\n",
        "\n",
        "model.add(Conv2D(64, (3, 3)))\n",
        "model.add(Activation('relu'))\n",
        "model.add(MaxPooling2D(pool_size=(2, 2)))\n",
        "\n",
        "model.add(Flatten())\n",
        "model.add(Dense(64))\n",
        "model.add(Activation('relu'))\n",
        "model.add(Dropout(0.5))\n",
        "model.add(Dense(1))\n",
        "model.add(Activation('sigmoid'))\n",
        "\n",
        "model.compile(loss='binary_crossentropy',\n",
        "              optimizer='rmsprop',\n",
        "              metrics=['accuracy'])"
      ],
      "execution_count": 0,
      "outputs": []
    },
    {
      "cell_type": "code",
      "metadata": {
        "id": "Oan1CY3uMF1S",
        "colab_type": "code",
        "outputId": "141a0d29-755c-4e24-93f6-fb722e541ecf",
        "colab": {
          "base_uri": "https://localhost:8080/",
          "height": 51
        }
      },
      "source": [
        "# train augmentation\n",
        "train_datagen = ImageDataGenerator(\n",
        "        rescale=1./255,\n",
        "        shear_range=0.2,\n",
        "        zoom_range=0.2,\n",
        "        horizontal_flip=True)\n",
        "\n",
        "# this is the augmentation configuration we will use for testing:\n",
        "# only rescaling\n",
        "test_datagen = ImageDataGenerator(rescale=1./255)"
      ],
      "execution_count": 0,
      "outputs": [
        {
          "output_type": "stream",
          "text": [
            "Found 2000 images belonging to 2 classes.\n",
            "Found 800 images belonging to 2 classes.\n"
          ],
          "name": "stdout"
        }
      ]
    },
    {
      "cell_type": "code",
      "metadata": {
        "id": "glAAxWPq5mgZ",
        "colab_type": "code",
        "colab": {}
      },
      "source": [
        "# this is a generator that will read pictures found in\n",
        "# subfolers of 'data/train', and indefinitely generate\n",
        "# batches of augmented image data\n",
        "train_generator = train_datagen.flow_from_directory(\n",
        "        'data/train',  # this is the target directory\n",
        "        target_size=(150, 150),  # all images will be resized to 150x150\n",
        "        batch_size=batch_size,\n",
        "        class_mode='binary')  # since we use binary_crossentropy loss, we need binary labels\n",
        "\n",
        "# this is a similar generator, for validation data\n",
        "validation_generator = test_datagen.flow_from_directory(\n",
        "        'data/validation',\n",
        "        target_size=(150, 150),\n",
        "        batch_size=batch_size,\n",
        "        class_mode='binary')"
      ],
      "execution_count": 0,
      "outputs": []
    },
    {
      "cell_type": "code",
      "metadata": {
        "id": "QrQ-KoSIOn5q",
        "colab_type": "code",
        "outputId": "a030dfbd-6e40-448d-9378-6443565309f9",
        "colab": {
          "base_uri": "https://localhost:8080/",
          "height": 1000
        }
      },
      "source": [
        "history = model.fit_generator(\n",
        "    train_generator,\n",
        "    steps_per_epoch=nb_train_samples // batch_size,\n",
        "    epochs=epochs,\n",
        "    validation_data=validation_generator,\n",
        "    validation_steps=nb_validation_samples // batch_size)"
      ],
      "execution_count": 0,
      "outputs": [
        {
          "output_type": "stream",
          "text": [
            "Epoch 1/50\n",
            "125/125 [==============================] - 21s 168ms/step - loss: 0.6163 - accuracy: 0.6625 - val_loss: 0.6605 - val_accuracy: 0.7038\n",
            "Epoch 2/50\n",
            "125/125 [==============================] - 20s 158ms/step - loss: 0.6051 - accuracy: 0.6890 - val_loss: 0.5229 - val_accuracy: 0.7275\n",
            "Epoch 3/50\n",
            "125/125 [==============================] - 19s 155ms/step - loss: 0.5728 - accuracy: 0.7185 - val_loss: 0.4275 - val_accuracy: 0.7000\n",
            "Epoch 4/50\n",
            "125/125 [==============================] - 19s 156ms/step - loss: 0.5662 - accuracy: 0.7205 - val_loss: 0.6937 - val_accuracy: 0.7337\n",
            "Epoch 5/50\n",
            "125/125 [==============================] - 20s 160ms/step - loss: 0.5374 - accuracy: 0.7410 - val_loss: 0.6418 - val_accuracy: 0.7225\n",
            "Epoch 6/50\n",
            "125/125 [==============================] - 19s 153ms/step - loss: 0.5383 - accuracy: 0.7320 - val_loss: 0.7282 - val_accuracy: 0.6787\n",
            "Epoch 7/50\n",
            "125/125 [==============================] - 19s 155ms/step - loss: 0.5282 - accuracy: 0.7390 - val_loss: 0.6977 - val_accuracy: 0.7113\n",
            "Epoch 8/50\n",
            "125/125 [==============================] - 19s 153ms/step - loss: 0.5378 - accuracy: 0.7420 - val_loss: 0.3438 - val_accuracy: 0.7513\n",
            "Epoch 9/50\n",
            "125/125 [==============================] - 20s 157ms/step - loss: 0.5164 - accuracy: 0.7525 - val_loss: 0.2573 - val_accuracy: 0.7088\n",
            "Epoch 10/50\n",
            "125/125 [==============================] - 19s 152ms/step - loss: 0.5215 - accuracy: 0.7460 - val_loss: 0.3518 - val_accuracy: 0.7362\n",
            "Epoch 11/50\n",
            "125/125 [==============================] - 20s 156ms/step - loss: 0.5006 - accuracy: 0.7615 - val_loss: 0.5361 - val_accuracy: 0.7513\n",
            "Epoch 12/50\n",
            "125/125 [==============================] - 19s 156ms/step - loss: 0.4915 - accuracy: 0.7615 - val_loss: 0.3810 - val_accuracy: 0.7638\n",
            "Epoch 13/50\n",
            "125/125 [==============================] - 19s 151ms/step - loss: 0.4777 - accuracy: 0.7760 - val_loss: 0.4237 - val_accuracy: 0.7275\n",
            "Epoch 14/50\n",
            "125/125 [==============================] - 20s 160ms/step - loss: 0.4788 - accuracy: 0.7775 - val_loss: 0.5770 - val_accuracy: 0.7763\n",
            "Epoch 15/50\n",
            "125/125 [==============================] - 19s 149ms/step - loss: 0.4841 - accuracy: 0.7740 - val_loss: 0.5485 - val_accuracy: 0.7675\n",
            "Epoch 16/50\n",
            "125/125 [==============================] - 19s 151ms/step - loss: 0.4729 - accuracy: 0.7880 - val_loss: 0.4338 - val_accuracy: 0.7650\n",
            "Epoch 17/50\n",
            "125/125 [==============================] - 19s 153ms/step - loss: 0.4746 - accuracy: 0.7910 - val_loss: 0.3393 - val_accuracy: 0.7875\n",
            "Epoch 18/50\n",
            "125/125 [==============================] - 19s 154ms/step - loss: 0.4815 - accuracy: 0.7770 - val_loss: 0.2833 - val_accuracy: 0.7525\n",
            "Epoch 19/50\n",
            "125/125 [==============================] - 19s 149ms/step - loss: 0.4647 - accuracy: 0.7845 - val_loss: 0.3949 - val_accuracy: 0.7325\n",
            "Epoch 20/50\n",
            "125/125 [==============================] - 19s 156ms/step - loss: 0.4682 - accuracy: 0.7830 - val_loss: 0.7207 - val_accuracy: 0.7788\n",
            "Epoch 21/50\n",
            "125/125 [==============================] - 19s 148ms/step - loss: 0.4470 - accuracy: 0.7990 - val_loss: 0.6408 - val_accuracy: 0.7575\n",
            "Epoch 22/50\n",
            "125/125 [==============================] - 20s 157ms/step - loss: 0.4537 - accuracy: 0.7995 - val_loss: 0.2340 - val_accuracy: 0.7763\n",
            "Epoch 23/50\n",
            "125/125 [==============================] - 20s 157ms/step - loss: 0.4465 - accuracy: 0.8000 - val_loss: 0.8660 - val_accuracy: 0.7763\n",
            "Epoch 24/50\n",
            "125/125 [==============================] - 19s 150ms/step - loss: 0.4358 - accuracy: 0.8040 - val_loss: 0.5498 - val_accuracy: 0.7812\n",
            "Epoch 25/50\n",
            "125/125 [==============================] - 19s 152ms/step - loss: 0.4380 - accuracy: 0.8045 - val_loss: 0.7406 - val_accuracy: 0.7725\n",
            "Epoch 26/50\n",
            "125/125 [==============================] - 19s 150ms/step - loss: 0.4633 - accuracy: 0.7895 - val_loss: 0.3796 - val_accuracy: 0.7387\n",
            "Epoch 27/50\n",
            "125/125 [==============================] - 18s 148ms/step - loss: 0.4484 - accuracy: 0.7940 - val_loss: 0.6731 - val_accuracy: 0.7875\n",
            "Epoch 28/50\n",
            "125/125 [==============================] - 20s 157ms/step - loss: 0.4421 - accuracy: 0.8025 - val_loss: 0.4290 - val_accuracy: 0.7825\n",
            "Epoch 29/50\n",
            "125/125 [==============================] - 19s 148ms/step - loss: 0.4345 - accuracy: 0.8160 - val_loss: 0.8727 - val_accuracy: 0.7575\n",
            "Epoch 30/50\n",
            "125/125 [==============================] - 19s 150ms/step - loss: 0.4323 - accuracy: 0.8095 - val_loss: 0.3807 - val_accuracy: 0.7750\n",
            "Epoch 31/50\n",
            "125/125 [==============================] - 19s 149ms/step - loss: 0.4418 - accuracy: 0.8055 - val_loss: 0.3239 - val_accuracy: 0.7875\n",
            "Epoch 32/50\n",
            "125/125 [==============================] - 19s 155ms/step - loss: 0.4270 - accuracy: 0.8110 - val_loss: 1.2508 - val_accuracy: 0.7900\n",
            "Epoch 33/50\n",
            "125/125 [==============================] - 19s 148ms/step - loss: 0.4369 - accuracy: 0.8135 - val_loss: 0.7067 - val_accuracy: 0.7700\n",
            "Epoch 34/50\n",
            "125/125 [==============================] - 18s 148ms/step - loss: 0.4414 - accuracy: 0.8095 - val_loss: 0.1343 - val_accuracy: 0.7738\n",
            "Epoch 35/50\n",
            "125/125 [==============================] - 19s 152ms/step - loss: 0.4303 - accuracy: 0.8085 - val_loss: 0.6936 - val_accuracy: 0.7725\n",
            "Epoch 36/50\n",
            "125/125 [==============================] - 19s 150ms/step - loss: 0.4106 - accuracy: 0.8230 - val_loss: 1.4421 - val_accuracy: 0.7850\n",
            "Epoch 37/50\n",
            "125/125 [==============================] - 19s 152ms/step - loss: 0.4208 - accuracy: 0.8185 - val_loss: 0.3202 - val_accuracy: 0.7750\n",
            "Epoch 38/50\n",
            "125/125 [==============================] - 18s 146ms/step - loss: 0.4180 - accuracy: 0.8125 - val_loss: 0.4886 - val_accuracy: 0.7862\n",
            "Epoch 39/50\n",
            "125/125 [==============================] - 19s 151ms/step - loss: 0.4297 - accuracy: 0.8165 - val_loss: 0.4213 - val_accuracy: 0.7788\n",
            "Epoch 40/50\n",
            "125/125 [==============================] - 19s 152ms/step - loss: 0.4179 - accuracy: 0.8285 - val_loss: 1.0964 - val_accuracy: 0.7462\n",
            "Epoch 41/50\n",
            "125/125 [==============================] - 19s 148ms/step - loss: 0.4167 - accuracy: 0.8240 - val_loss: 0.4754 - val_accuracy: 0.7663\n",
            "Epoch 42/50\n",
            "125/125 [==============================] - 19s 150ms/step - loss: 0.4216 - accuracy: 0.8185 - val_loss: 0.6698 - val_accuracy: 0.7725\n",
            "Epoch 43/50\n",
            "125/125 [==============================] - 18s 147ms/step - loss: 0.4114 - accuracy: 0.8245 - val_loss: 0.4852 - val_accuracy: 0.7462\n",
            "Epoch 44/50\n",
            "125/125 [==============================] - 18s 147ms/step - loss: 0.4281 - accuracy: 0.8145 - val_loss: 0.8500 - val_accuracy: 0.7775\n",
            "Epoch 45/50\n",
            "125/125 [==============================] - 18s 144ms/step - loss: 0.4302 - accuracy: 0.8160 - val_loss: 0.4237 - val_accuracy: 0.7700\n",
            "Epoch 46/50\n",
            "125/125 [==============================] - 19s 148ms/step - loss: 0.4075 - accuracy: 0.8155 - val_loss: 0.6992 - val_accuracy: 0.7487\n",
            "Epoch 47/50\n",
            "125/125 [==============================] - 19s 153ms/step - loss: 0.4119 - accuracy: 0.8205 - val_loss: 1.2414 - val_accuracy: 0.7688\n",
            "Epoch 48/50\n",
            "125/125 [==============================] - 20s 158ms/step - loss: 0.4066 - accuracy: 0.8310 - val_loss: 0.7657 - val_accuracy: 0.7625\n",
            "Epoch 49/50\n",
            "125/125 [==============================] - 19s 155ms/step - loss: 0.4323 - accuracy: 0.8240 - val_loss: 0.4260 - val_accuracy: 0.7337\n",
            "Epoch 50/50\n",
            "125/125 [==============================] - 19s 150ms/step - loss: 0.4087 - accuracy: 0.8305 - val_loss: 0.0675 - val_accuracy: 0.7563\n"
          ],
          "name": "stdout"
        }
      ]
    },
    {
      "cell_type": "code",
      "metadata": {
        "id": "hBqZf_94biDc",
        "colab_type": "code",
        "outputId": "a9f376c6-8acd-4343-b623-9ca462132c8a",
        "colab": {
          "base_uri": "https://localhost:8080/",
          "height": 350
        }
      },
      "source": [
        "fig, (ax1, ax2) = plt.subplots(1,2, figsize=(12,5))\n",
        "ax1.plot(history.history['accuracy'])\n",
        "ax1.plot(history.history['val_accuracy'])\n",
        "ax1.legend(['train', 'validation'], loc='best')\n",
        "ax1.set(xlabel='Epoch', ylabel='Accuracy')\n",
        "ax1.set_title('Model accuracy');\n",
        "\n",
        "ax2.plot(history.history['loss'])\n",
        "ax2.plot(history.history['val_loss'])\n",
        "ax2.legend(['train', 'validation'], loc='best')\n",
        "ax2.set(xlabel='Epoch', ylabel='Loss')\n",
        "ax2.set_title('Model loss');"
      ],
      "execution_count": 0,
      "outputs": [
        {
          "output_type": "display_data",
          "data": {
            "image/png": "[encoded data removed]",
            "text/plain": [
              "<Figure size 864x360 with 2 Axes>"
            ]
          },
          "metadata": {
            "tags": [],
            "needs_background": "light"
          }
        }
      ]
    }
  ]
}